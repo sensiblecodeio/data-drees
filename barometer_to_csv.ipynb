{
 "cells": [
  {
   "cell_type": "markdown",
   "metadata": {},
   "source": [
    "## Extract each sheet and remove inconsistencies"
   ]
  },
  {
   "cell_type": "code",
   "execution_count": 137,
   "metadata": {},
   "outputs": [],
   "source": [
    "import os\n",
    "import numpy as np\n",
    "import pandas as pd\n",
    "from collections import defaultdict\n",
    "import json"
   ]
  },
  {
   "cell_type": "code",
   "execution_count": 2,
   "metadata": {},
   "outputs": [],
   "source": [
    "xl = pd.ExcelFile('Datasets/download.xlsx') #parse Excel file\n",
    "sheet_names = xl.sheet_names #assign sheet names to a list\n",
    "k = len(sheet_names)\n",
    "sheets_consistent=[]"
   ]
  },
  {
   "cell_type": "code",
   "execution_count": 3,
   "metadata": {},
   "outputs": [],
   "source": [
    "for x in range(k):\n",
    "    sheet_x = xl.parse(sheet_names[x]) #parse sheet with name x, where i is defined in sheet_names\n",
    "    if sheet_x.iat[8,1] != \"Base redressée\" and sheet_x.iat[9,1] == \"Base redressée\":\n",
    "        sheet_x = sheet_x.drop([8]) #drop row 8\n",
    "        i = sheet_x.shape[0] #number of rows in sheet_x\n",
    "        sheet_x.index = range(i) #reassign index\n",
    "        sheets_consistent.append(sheet_x) #append sheet_x to sheet_names_2\n",
    "    else:\n",
    "        sheets_consistent.append(sheet_x) #if 'base redressee' in [8,1], leave as is and append"
   ]
  },
  {
   "cell_type": "code",
   "execution_count": 4,
   "metadata": {},
   "outputs": [
    {
     "name": "stdout",
     "output_type": "stream",
     "text": [
      "0\n",
      "1\n"
     ]
    }
   ],
   "source": [
    "for x in range(k):\n",
    "    if sheets_consistent[x].iat[8,1] != \"Base redressée\":\n",
    "        print(x) #check to see if all sheets have 'base redressee' in cell [8,1]. (sheets 0 and 1 are exceptions)"
   ]
  },
  {
   "cell_type": "markdown",
   "metadata": {},
   "source": [
    "# Extract questions from sheet[1] to a list"
   ]
  },
  {
   "cell_type": "code",
   "execution_count": 5,
   "metadata": {},
   "outputs": [],
   "source": [
    "summary_page = sheets_consistent[1].set_index('SOMMAIRE').dropna()#set index column to be SOMMAIRE column and drop nan values\n",
    "y = len(summary_page)\n"
   ]
  },
  {
   "cell_type": "code",
   "execution_count": 6,
   "metadata": {},
   "outputs": [],
   "source": [
    "questions=[]\n",
    "for x in range(y):\n",
    "    questions.append(summary_page.iat[x,0]) #append questions to a list"
   ]
  },
  {
   "cell_type": "markdown",
   "metadata": {},
   "source": [
    "# Data into structured dictionary"
   ]
  },
  {
   "cell_type": "code",
   "execution_count": 120,
   "metadata": {},
   "outputs": [],
   "source": [
    "my_dict = defaultdict(list)\n",
    "for t in range(2,y+2):\n",
    "    my_dict[t].append({'question' : questions[t-2]})\n",
    "    p = sheets_consistent[t]['Baromètre d’opinion de la Drees'].count()\n",
    "    g = sheets_consistent[t].iloc[6].count()\n",
    "    for i in range(g):\n",
    "        for j in range(p-1):\n",
    "            my_dict[t].append({(\"{0}\".format(sheets_consistent[t].iat[6,2+(2*i)]),\"{0}\".format(sheets_consistent[t].iat[8+j,1].replace('  ',''))):\"{0}\".format(sheets_consistent[t].iat[8+j,2+(2*i)])})"
   ]
  },
  {
   "cell_type": "code",
   "execution_count": 148,
   "metadata": {},
   "outputs": [],
   "source": [
    "with open('barometer_dataset.csv', 'w') as f:\n",
    "    writer = csv.writer(f)\n",
    "    for k,v in my_dict.items():\n",
    "        writer.writerow(v)"
   ]
  }
 ],
 "metadata": {
  "kernelspec": {
   "display_name": "Python 3",
   "language": "python",
   "name": "python3"
  },
  "language_info": {
   "codemirror_mode": {
    "name": "ipython",
    "version": 3
   },
   "file_extension": ".py",
   "mimetype": "text/x-python",
   "name": "python",
   "nbconvert_exporter": "python",
   "pygments_lexer": "ipython3",
   "version": "3.6.4"
  }
 },
 "nbformat": 4,
 "nbformat_minor": 2
}
